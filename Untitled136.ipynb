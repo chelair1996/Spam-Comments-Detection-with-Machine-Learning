{
 "cells": [
  {
   "cell_type": "markdown",
   "id": "fd84e399-e30f-4c31-a1d4-ee428233f067",
   "metadata": {},
   "source": [
    "# Spam Comments Detection with Machine Learning"
   ]
  },
  {
   "cell_type": "markdown",
   "id": "cd44fd0c-d75a-4e9b-b23d-5e95ebcfa937",
   "metadata": {},
   "source": [
    "Spam comments detection means classifying comments as spam or not spam. YouTube is one of the platforms that uses Machine Learning to filter spam comments automatically to save its creators from spam comments."
   ]
  },
  {
   "cell_type": "markdown",
   "id": "2a87b176-cb76-4cfd-a54f-e6eeef47f1e3",
   "metadata": {},
   "source": [
    "Detecting spam comments is the task of text classification in Machine Learning. Spam comments on social media platforms are the type of comments posted to redirect the user to another social media account, website or any piece of content.\n",
    "\n",
    "To detect spam comments with Machine Learning, we need labelled data of spam comments."
   ]
  },
  {
   "cell_type": "markdown",
   "id": "49be8738-d8de-4a94-8f81-695b432a7889",
   "metadata": {},
   "source": [
    "In the section below, you will learn how to detect spam comments with machine learning using the Python programming language."
   ]
  },
  {
   "cell_type": "markdown",
   "id": "3184dd6b-7279-41fc-8703-19a62022c659",
   "metadata": {},
   "source": [
    "Let’s start this task by importing the necessary Python libraries "
   ]
  },
  {
   "cell_type": "code",
   "execution_count": 22,
   "id": "d82b6149-6ff2-4e40-83ed-f2b53f8973d8",
   "metadata": {},
   "outputs": [],
   "source": [
    "import pandas as pd\n",
    "import numpy as np\n",
    "from sklearn.feature_extraction.text import CountVectorizer\n",
    "from sklearn.model_selection import train_test_split\n",
    "from sklearn.naive_bayes import BernoulliNB"
   ]
  },
  {
   "cell_type": "code",
   "execution_count": 23,
   "id": "95be16e8-d431-49b4-b5c5-5ac0d9c6f73f",
   "metadata": {},
   "outputs": [
    {
     "name": "stdout",
     "output_type": "stream",
     "text": [
      "                                COMMENT_ID             AUTHOR  \\\n",
      "279      z13ytrypzmmxwrqsw22hfhf4ivbot5w2q            Hollz C   \n",
      "101  z130gviqarmshdnau04cdzigvs3jepx4qw00k        khir abqari   \n",
      "128  z121jvbjakmbehsys04ce5yj1y3hxx0hzsk0k  abdellah chafouai   \n",
      "127    z123gnabnwbqtr1e022jejij0zzzez2os04      Luat ha hpuoc   \n",
      "110      z123jlf4lzjbgpbcr23yhxyqbpe3gxpvm           TIGERIO_   \n",
      "\n",
      "                    DATE                                            CONTENT  \\\n",
      "279  2014-11-08T09:17:52                         I'm watching this in 2014﻿   \n",
      "101  2014-11-04T07:37:28  they said this video are not deserve 2billion ...   \n",
      "128  2014-11-05T16:12:51  Discover a beautiful song of A young Moroccan ...   \n",
      "127  2014-11-05T15:38:10  so crazy, over 2 billion views, not US, not Uk...   \n",
      "110  2014-11-04T19:46:38  EHI GUYS CAN YOU SUBSCRIBE IN MY CHANNEL? I AM...   \n",
      "\n",
      "     CLASS  \n",
      "279      0  \n",
      "101      0  \n",
      "128      1  \n",
      "127      0  \n",
      "110      1  \n"
     ]
    }
   ],
   "source": [
    "data = pd.read_csv(\"Youtube01-Psy.csv\")\n",
    "print(data.sample(5))"
   ]
  },
  {
   "cell_type": "markdown",
   "id": "181b3885-b0e8-46df-a091-6229007e02ed",
   "metadata": {},
   "source": [
    "We only need the content and class column from the dataset for the rest of the task. So let’s select both the columns and move further:"
   ]
  },
  {
   "cell_type": "code",
   "execution_count": 24,
   "id": "d2879a3a-9688-438d-a1e2-9f1eda423339",
   "metadata": {},
   "outputs": [
    {
     "name": "stdout",
     "output_type": "stream",
     "text": [
      "                                               CONTENT  CLASS\n",
      "8      You should check my channel for Funny VIDEOS!!﻿      1\n",
      "281  how does this video have 2,127,322,484 views i...      0\n",
      "282                             What my gangnam style﻿      0\n",
      "90   https://www.indiegogo.com/projects/cleaning-th...      1\n",
      "34                           2 billion....Coming soon﻿      0\n"
     ]
    }
   ],
   "source": [
    "data = data[[\"CONTENT\", \"CLASS\"]]\n",
    "print(data.sample(5))"
   ]
  },
  {
   "cell_type": "markdown",
   "id": "fd70b427-4bea-4926-8a19-e250b695f01c",
   "metadata": {},
   "source": [
    "The class column contains values 0 and 1. 0 indicates not spam, and 1 indicates spam. So to make it look better, I will use spam and not spam labels instead of 1 and 0:"
   ]
  },
  {
   "cell_type": "code",
   "execution_count": 25,
   "id": "0a68b9f5-fbe4-4ddb-b22f-a03bacdece91",
   "metadata": {},
   "outputs": [
    {
     "name": "stdout",
     "output_type": "stream",
     "text": [
      "                                               CONTENT         CLASS\n",
      "59                                      Subscribe ME!﻿  Spam Comment\n",
      "104  need money?Enjoy https://www.tsu.co/emerson_za...  Spam Comment\n",
      "29    Subscribe to me for free Android games, apps.. ﻿  Spam Comment\n",
      "80     http://woobox.com/33gxrf/brt0u5 FREE CS GO!!!!﻿  Spam Comment\n",
      "299     I am so awesome and smart!!! Sucscribe to me!﻿  Spam Comment\n"
     ]
    }
   ],
   "source": [
    "data[\"CLASS\"] = data[\"CLASS\"].map({0: \"Not Spam\",\n",
    "                                   1: \"Spam Comment\"})\n",
    "print(data.sample(5))"
   ]
  },
  {
   "cell_type": "markdown",
   "id": "fe3db383-22d2-420a-a508-5501df741da6",
   "metadata": {},
   "source": [
    "### Training a Classification Model"
   ]
  },
  {
   "cell_type": "markdown",
   "id": "2b802b82-3619-42e9-a2d0-87267db59eb6",
   "metadata": {},
   "source": [
    "Now let’s move further by training a classification Machine Learning model to classify spam and not spam comments. As this problem is a problem of binary classification, I will use the Bernoulli Naive Bayes algorithm to train the model:"
   ]
  },
  {
   "cell_type": "code",
   "execution_count": 26,
   "id": "d29e395b-3c87-400f-811b-d1b48f704d3b",
   "metadata": {},
   "outputs": [
    {
     "name": "stdout",
     "output_type": "stream",
     "text": [
      "0.9857142857142858\n"
     ]
    }
   ],
   "source": [
    "x = np.array(data[\"CONTENT\"])\n",
    "y = np.array(data[\"CLASS\"])\n",
    "\n",
    "cv = CountVectorizer()\n",
    "x = cv.fit_transform(x)\n",
    "xtrain, xtest, ytrain, ytest = train_test_split(x, y, \n",
    "                                                test_size=0.2, \n",
    "                                                random_state=42)\n",
    "\n",
    "model = BernoulliNB()\n",
    "model.fit(xtrain, ytrain)\n",
    "print(model.score(xtest, ytest))"
   ]
  },
  {
   "cell_type": "markdown",
   "id": "568c1704-6658-4323-91ce-b8d43b797d58",
   "metadata": {},
   "source": [
    "Now let’s test the model by giving spam and not spam comments as input:"
   ]
  },
  {
   "cell_type": "code",
   "execution_count": 27,
   "id": "ad2b5f26-aa62-4f7c-872c-a826e83bd584",
   "metadata": {},
   "outputs": [
    {
     "name": "stdout",
     "output_type": "stream",
     "text": [
      "['Spam Comment']\n"
     ]
    }
   ],
   "source": [
    "sample = \"Check this out: https://amanxai.com/\" \n",
    "data = cv.transform([sample]).toarray()\n",
    "print(model.predict(data))"
   ]
  },
  {
   "cell_type": "code",
   "execution_count": 28,
   "id": "e0ab376e-baac-4106-8fe4-d34f3e192587",
   "metadata": {},
   "outputs": [
    {
     "name": "stdout",
     "output_type": "stream",
     "text": [
      "['Not Spam']\n"
     ]
    }
   ],
   "source": [
    "sample = \"Lack of information!\" \n",
    "data = cv.transform([sample]).toarray()\n",
    "print(model.predict(data)) "
   ]
  },
  {
   "cell_type": "markdown",
   "id": "39bde79e-4b6a-4d4e-a7a3-f4cae1a7fbff",
   "metadata": {},
   "source": [
    "So this is how you can train a Machine Learning model for the task of spam detection using Python."
   ]
  },
  {
   "cell_type": "markdown",
   "id": "c09f5eee-9c7d-49f3-981e-a4b28e41fecc",
   "metadata": {},
   "source": [
    "## Summary"
   ]
  },
  {
   "cell_type": "markdown",
   "id": "db51aab0-85be-43cf-8528-c32ae0140403",
   "metadata": {},
   "source": [
    "Spam comments detection means classifying comments as spam or not spam. Spam comments on social media platforms are the type of comments posted to redirect the user to another social media account, website or any piece of content"
   ]
  },
  {
   "cell_type": "code",
   "execution_count": null,
   "id": "c30656fd-9efc-4a8e-a8a3-25e287d07b6b",
   "metadata": {},
   "outputs": [],
   "source": []
  }
 ],
 "metadata": {
  "kernelspec": {
   "display_name": "Python 3 (ipykernel)",
   "language": "python",
   "name": "python3"
  },
  "language_info": {
   "codemirror_mode": {
    "name": "ipython",
    "version": 3
   },
   "file_extension": ".py",
   "mimetype": "text/x-python",
   "name": "python",
   "nbconvert_exporter": "python",
   "pygments_lexer": "ipython3",
   "version": "3.9.12"
  }
 },
 "nbformat": 4,
 "nbformat_minor": 5
}
